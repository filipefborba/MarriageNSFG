{
 "cells": [
  {
   "cell_type": "code",
   "execution_count": 1,
   "metadata": {},
   "outputs": [],
   "source": [
    "from __future__ import print_function, division\n",
    "\n",
    "import marriage"
   ]
  },
  {
   "cell_type": "code",
   "execution_count": 2,
   "metadata": {},
   "outputs": [
    {
     "data": {
      "text/plain": [
       "5554"
      ]
     },
     "execution_count": 2,
     "metadata": {},
     "output_type": "execute_result"
    }
   ],
   "source": [
    "df = marriage.ReadFemResp2017()\n",
    "len(df)"
   ]
  },
  {
   "cell_type": "code",
   "execution_count": 3,
   "metadata": {},
   "outputs": [
    {
     "data": {
      "text/plain": [
       "False    2972\n",
       "True     2582\n",
       "Name: evrmarry, dtype: int64"
      ]
     },
     "execution_count": 3,
     "metadata": {},
     "output_type": "execute_result"
    }
   ],
   "source": [
    "df.evrmarry.value_counts()"
   ]
  },
  {
   "cell_type": "code",
   "execution_count": 4,
   "metadata": {},
   "outputs": [
    {
     "data": {
      "text/plain": [
       "5554"
      ]
     },
     "execution_count": 4,
     "metadata": {},
     "output_type": "execute_result"
    }
   ],
   "source": [
    "sum(df.evrmarry.value_counts())"
   ]
  },
  {
   "cell_type": "code",
   "execution_count": 5,
   "metadata": {},
   "outputs": [
    {
     "data": {
      "text/plain": [
       "5554"
      ]
     },
     "execution_count": 5,
     "metadata": {},
     "output_type": "execute_result"
    }
   ],
   "source": [
    "len(df[(df.cmbirth >= 380) & (df.cmbirth <= 1340)])"
   ]
  },
  {
   "cell_type": "code",
   "execution_count": 6,
   "metadata": {},
   "outputs": [
    {
     "data": {
      "text/plain": [
       "2066"
      ]
     },
     "execution_count": 6,
     "metadata": {},
     "output_type": "execute_result"
    }
   ],
   "source": [
    "len(df[(df.cmmarrhx >= 380) & (df.cmmarrhx <= 1340)])"
   ]
  },
  {
   "cell_type": "code",
   "execution_count": 7,
   "metadata": {},
   "outputs": [
    {
     "data": {
      "text/plain": [
       "2972"
      ]
     },
     "execution_count": 7,
     "metadata": {},
     "output_type": "execute_result"
    }
   ],
   "source": [
    "len(df[(df.cmmarrhx.isnull())])"
   ]
  },
  {
   "cell_type": "code",
   "execution_count": 8,
   "metadata": {},
   "outputs": [
    {
     "data": {
      "text/plain": [
       "1389     53\n",
       "1390    291\n",
       "1391    318\n",
       "1392    144\n",
       "1393    288\n",
       "1394    248\n",
       "1395    189\n",
       "1396    246\n",
       "1397    250\n",
       "1398    201\n",
       "1399    281\n",
       "1400    253\n",
       "1401    187\n",
       "1402    236\n",
       "1403    210\n",
       "1404    127\n",
       "1405    243\n",
       "1406    254\n",
       "1407    233\n",
       "1408    255\n",
       "1409    246\n",
       "1410    214\n",
       "1411    275\n",
       "1412    257\n",
       "1413     55\n",
       "Name: cmintvw, dtype: int64"
      ]
     },
     "execution_count": 8,
     "metadata": {},
     "output_type": "execute_result"
    }
   ],
   "source": [
    "df.cmintvw.value_counts().sort_index()"
   ]
  },
  {
   "cell_type": "code",
   "execution_count": 9,
   "metadata": {},
   "outputs": [
    {
     "data": {
      "text/plain": [
       "1924.916000      76\n",
       "1933.532918       1\n",
       "1936.862601       1\n",
       "1937.591139       1\n",
       "1937.924662       1\n",
       "1941.085733       1\n",
       "1960.231948       1\n",
       "1962.377954       1\n",
       "1978.405189       1\n",
       "1980.243286       1\n",
       "1988.857325       1\n",
       "1989.587344       1\n",
       "2027.462979       1\n",
       "2056.440834       1\n",
       "2058.933058       1\n",
       "2078.228701       1\n",
       "2094.267217       2\n",
       "2097.518921       1\n",
       "2104.197665       1\n",
       "2110.044232       1\n",
       "2134.219549       1\n",
       "2142.799123       1\n",
       "2149.421454       1\n",
       "2150.204709       1\n",
       "2155.195503       1\n",
       "2158.068354       1\n",
       "2159.953516       1\n",
       "2172.355936       1\n",
       "2180.305145       2\n",
       "2189.388495       1\n",
       "                 ..\n",
       "81696.106877      1\n",
       "82176.522526      1\n",
       "83071.277355      1\n",
       "83891.151275      1\n",
       "85104.098915      1\n",
       "86791.941772      1\n",
       "86821.355330      1\n",
       "88559.708902      1\n",
       "89442.326040      1\n",
       "89471.271364      1\n",
       "91557.023977      1\n",
       "91648.933100      1\n",
       "92486.027213      1\n",
       "93158.831765      1\n",
       "93501.460668      1\n",
       "93555.066375      1\n",
       "93629.257358      1\n",
       "94542.879517      1\n",
       "95634.313521      1\n",
       "96340.588740      1\n",
       "97162.559504      1\n",
       "97162.694157      1\n",
       "101527.250784     1\n",
       "103091.747128     1\n",
       "103759.820185     1\n",
       "104109.556444     1\n",
       "104148.210400     1\n",
       "104856.788562     1\n",
       "105720.236433     1\n",
       "106774.400000    49\n",
       "Name: finalwgt, Length: 5362, dtype: int64"
      ]
     },
     "execution_count": 9,
     "metadata": {},
     "output_type": "execute_result"
    }
   ],
   "source": [
    "df.finalwgt.value_counts().sort_index()"
   ]
  },
  {
   "cell_type": "code",
   "execution_count": null,
   "metadata": {},
   "outputs": [],
   "source": []
  }
 ],
 "metadata": {
  "kernelspec": {
   "display_name": "Python 3",
   "language": "python",
   "name": "python3"
  },
  "language_info": {
   "codemirror_mode": {
    "name": "ipython",
    "version": 3
   },
   "file_extension": ".py",
   "mimetype": "text/x-python",
   "name": "python",
   "nbconvert_exporter": "python",
   "pygments_lexer": "ipython3",
   "version": "3.6.8"
  }
 },
 "nbformat": 4,
 "nbformat_minor": 1
}
