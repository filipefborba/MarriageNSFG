{
 "cells": [
  {
   "cell_type": "code",
   "execution_count": 4,
   "metadata": {},
   "outputs": [],
   "source": [
    "from __future__ import print_function, division\n",
    "\n",
    "import marriage"
   ]
  },
  {
   "cell_type": "code",
   "execution_count": 9,
   "metadata": {},
   "outputs": [
    {
     "data": {
      "text/plain": [
       "5699"
      ]
     },
     "execution_count": 9,
     "metadata": {},
     "output_type": "execute_result"
    }
   ],
   "source": [
    "df = marriage.ReadFemResp2015()\n",
    "len(df)"
   ]
  },
  {
   "cell_type": "code",
   "execution_count": 10,
   "metadata": {},
   "outputs": [
    {
     "data": {
      "text/plain": [
       "False    3298\n",
       "True     2401\n",
       "Name: evrmarry, dtype: int64"
      ]
     },
     "execution_count": 10,
     "metadata": {},
     "output_type": "execute_result"
    }
   ],
   "source": [
    "df.evrmarry.value_counts()"
   ]
  },
  {
   "cell_type": "code",
   "execution_count": 11,
   "metadata": {},
   "outputs": [
    {
     "data": {
      "text/plain": [
       "5699"
      ]
     },
     "execution_count": 11,
     "metadata": {},
     "output_type": "execute_result"
    }
   ],
   "source": [
    "len(df[(df.cmbirth >= 380) & (df.cmbirth <= 1340)])"
   ]
  },
  {
   "cell_type": "code",
   "execution_count": 12,
   "metadata": {},
   "outputs": [
    {
     "data": {
      "text/plain": [
       "2080"
      ]
     },
     "execution_count": 12,
     "metadata": {},
     "output_type": "execute_result"
    }
   ],
   "source": [
    "len(df[(df.cmmarrhx >= 380) & (df.cmmarrhx <= 1340)])"
   ]
  },
  {
   "cell_type": "code",
   "execution_count": 13,
   "metadata": {},
   "outputs": [
    {
     "data": {
      "text/plain": [
       "3309"
      ]
     },
     "execution_count": 13,
     "metadata": {},
     "output_type": "execute_result"
    }
   ],
   "source": [
    "len(df[(df.cmmarrhx.isnull())])"
   ]
  },
  {
   "cell_type": "code",
   "execution_count": 14,
   "metadata": {},
   "outputs": [
    {
     "data": {
      "text/plain": [
       "1365     84\n",
       "1366    293\n",
       "1367    255\n",
       "1368    127\n",
       "1369    210\n",
       "1370    221\n",
       "1371    214\n",
       "1372    238\n",
       "1373    324\n",
       "1374    195\n",
       "1375    302\n",
       "1376    316\n",
       "1377    168\n",
       "1378    265\n",
       "1379    246\n",
       "1380    120\n",
       "1381    242\n",
       "1382    271\n",
       "1383    225\n",
       "1384    253\n",
       "1385    308\n",
       "1386    227\n",
       "1387    280\n",
       "1388    262\n",
       "1389     53\n",
       "Name: cmintvw, dtype: int64"
      ]
     },
     "execution_count": 14,
     "metadata": {},
     "output_type": "execute_result"
    }
   ],
   "source": [
    "df.cmintvw.value_counts().sort_index()"
   ]
  },
  {
   "cell_type": "code",
   "execution_count": 15,
   "metadata": {},
   "outputs": [
    {
     "data": {
      "text/plain": [
       "1859.105000     86\n",
       "1878.981422      1\n",
       "1882.961275      1\n",
       "1887.764078      1\n",
       "1889.828073      2\n",
       "1897.387434      2\n",
       "1903.529184      1\n",
       "1907.880114      1\n",
       "1911.143350      1\n",
       "1916.896431      1\n",
       "1934.568148      1\n",
       "1942.588303      1\n",
       "1944.613868      1\n",
       "1984.107554      1\n",
       "2058.370133      1\n",
       "2061.847139      1\n",
       "2064.493511      3\n",
       "2072.031367      1\n",
       "2077.439094      1\n",
       "2078.706957      1\n",
       "2083.441682      1\n",
       "2096.728832      1\n",
       "2102.818875      1\n",
       "2112.210276      2\n",
       "2125.982152      1\n",
       "2135.169863      1\n",
       "2135.602308      1\n",
       "2138.384224      1\n",
       "2144.767826      1\n",
       "2145.970180      1\n",
       "                ..\n",
       "64074.185622     1\n",
       "64264.849227     1\n",
       "64660.683237     1\n",
       "64698.356952     1\n",
       "64757.149920     1\n",
       "64918.031476     1\n",
       "65240.598924     1\n",
       "65481.643970     1\n",
       "65962.667512     1\n",
       "66421.061175     1\n",
       "67202.597133     1\n",
       "67269.864679     1\n",
       "67345.883074     1\n",
       "67660.590312     1\n",
       "67728.089664     1\n",
       "68908.112704     1\n",
       "69404.648433     1\n",
       "70079.886878     1\n",
       "70086.498720     1\n",
       "70520.000663     1\n",
       "71484.386710     1\n",
       "72082.510371     1\n",
       "72192.370127     1\n",
       "72690.202455     1\n",
       "73603.606662     1\n",
       "73806.673219     1\n",
       "73897.970440     1\n",
       "75042.552798     1\n",
       "75340.755558     1\n",
       "75399.410000    44\n",
       "Name: finalwgt, Length: 5431, dtype: int64"
      ]
     },
     "execution_count": 15,
     "metadata": {},
     "output_type": "execute_result"
    }
   ],
   "source": [
    "df.finalwgt.value_counts().sort_index()"
   ]
  }
 ],
 "metadata": {
  "kernelspec": {
   "display_name": "Python 3",
   "language": "python",
   "name": "python3"
  },
  "language_info": {
   "codemirror_mode": {
    "name": "ipython",
    "version": 3
   },
   "file_extension": ".py",
   "mimetype": "text/x-python",
   "name": "python",
   "nbconvert_exporter": "python",
   "pygments_lexer": "ipython3",
   "version": "3.6.8"
  }
 },
 "nbformat": 4,
 "nbformat_minor": 1
}
