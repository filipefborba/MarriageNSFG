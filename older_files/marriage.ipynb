{
 "cells": [
  {
   "cell_type": "markdown",
   "metadata": {},
   "source": [
    "## Will Millennials Ever Get Married?\n",
    "\n",
    "This notebook contains analysis related to a paper on marriage patterns in the U.S., based on data from the National Survey of Family Growth (NSFG).\n",
    "\n",
    "It is based on Chapter 13 of Think Stats, 2nd Edition, by Allen Downey, available from [thinkstats2.com](http://thinkstats2.com)"
   ]
  },
  {
   "cell_type": "code",
   "execution_count": 1,
   "metadata": {},
   "outputs": [
    {
     "ename": "SyntaxError",
     "evalue": "invalid syntax (<ipython-input-1-7bbe3fdba535>, line 15)",
     "output_type": "error",
     "traceback": [
      "\u001b[1;36m  File \u001b[1;32m\"<ipython-input-1-7bbe3fdba535>\"\u001b[1;36m, line \u001b[1;32m15\u001b[0m\n\u001b[1;33m    import ../thinkstats2\u001b[0m\n\u001b[1;37m           ^\u001b[0m\n\u001b[1;31mSyntaxError\u001b[0m\u001b[1;31m:\u001b[0m invalid syntax\n"
     ]
    }
   ],
   "source": [
    "%matplotlib inline\n",
    "\n",
    "import pandas as pd\n",
    "import numpy as np\n",
    "import seaborn as sns\n",
    "\n",
    "import math\n",
    "\n",
    "import matplotlib.pyplot as plt\n",
    "from matplotlib import pylab\n",
    "\n",
    "from scipy.interpolate import interp1d\n",
    "from scipy.misc import derivative\n",
    "\n",
    "import thinkstats2\n",
    "import thinkplot\n",
    "from thinkstats2 import Cdf\n",
    "\n",
    "import survival\n",
    "import marriage"
   ]
  },
  {
   "cell_type": "code",
   "execution_count": 2,
   "metadata": {},
   "outputs": [
    {
     "name": "stdout",
     "output_type": "stream",
     "text": [
      "Wall time: 223 ms\n"
     ]
    },
    {
     "data": {
      "text/plain": [
       "(64042, 41)"
      ]
     },
     "execution_count": 2,
     "metadata": {},
     "output_type": "execute_result"
    }
   ],
   "source": [
    "%time df = pd.read_hdf('FemMarriageData.hdf', 'FemMarriageData')\n",
    "df.shape"
   ]
  },
  {
   "cell_type": "markdown",
   "metadata": {},
   "source": [
    "Make a table showing the number of respondents in each cycle:"
   ]
  },
  {
   "cell_type": "code",
   "execution_count": 3,
   "metadata": {},
   "outputs": [
    {
     "data": {
      "text/plain": [
       "3      7969\n",
       "4      8450\n",
       "5     10847\n",
       "6      7643\n",
       "7     12279\n",
       "8      5601\n",
       "9      5699\n",
       "10     5554\n",
       "Name: cycle, dtype: int64"
      ]
     },
     "execution_count": 3,
     "metadata": {},
     "output_type": "execute_result"
    }
   ],
   "source": [
    "df.cycle.value_counts().sort_index()"
   ]
  },
  {
   "cell_type": "code",
   "execution_count": 4,
   "metadata": {},
   "outputs": [],
   "source": [
    "def format_date_range(array):\n",
    "    a, b = array.astype(int)\n",
    "    return '%d--%d' % (a, b)\n",
    "\n",
    "def SummarizeCycle(cycle, df):\n",
    "    ages = df.age.min(), df.age.max()\n",
    "    ages= np.array(ages)\n",
    "    \n",
    "    intvws = df.cmintvw.min(), df.cmintvw.max()\n",
    "    intvws = np.array(intvws) / 12 + 1900\n",
    "    \n",
    "    births = df.cmbirth.min(), df.cmbirth.max()\n",
    "    births = np.array(births) / 12 + 1900\n",
    "    \n",
    "    intvw_dates = format_date_range(intvws)\n",
    "    birth_dates = format_date_range(births)\n",
    "    \n",
    "    print(cycle, ' & ', intvw_dates, '&', len(df), '&', birth_dates, r'\\\\')"
   ]
  },
  {
   "cell_type": "code",
   "execution_count": 5,
   "metadata": {},
   "outputs": [
    {
     "name": "stdout",
     "output_type": "stream",
     "text": [
      "3  &  1982--1983 & 7969 & 1937--1968 \\\\\n",
      "4  &  1988--1988 & 8450 & 1943--1973 \\\\\n",
      "5  &  1995--1995 & 10847 & 1950--1980 \\\\\n",
      "6  &  2002--2003 & 7643 & 1957--1988 \\\\\n",
      "7  &  2006--2010 & 12279 & 1961--1995 \\\\\n",
      "8  &  2011--2013 & 5601 & 1966--1998 \\\\\n",
      "9  &  2013--2015 & 5699 & 1968--2000 \\\\\n",
      "10  &  2015--2017 & 5554 & 1966--2002 \\\\\n"
     ]
    }
   ],
   "source": [
    "for cycle, group in df.groupby('cycle'):\n",
    "    SummarizeCycle(cycle, group)"
   ]
  },
  {
   "cell_type": "markdown",
   "metadata": {},
   "source": [
    "Check for missing values in `agemarry`:"
   ]
  },
  {
   "cell_type": "code",
   "execution_count": 52,
   "metadata": {},
   "outputs": [
    {
     "name": "stdout",
     "output_type": "stream",
     "text": [
      "0\n",
      "22\n",
      "0\n",
      "37\n",
      "16\n",
      "17\n",
      "11\n",
      "0\n"
     ]
    }
   ],
   "source": [
    "def CheckAgeVars(df):\n",
    "    print(sum(df[df.evrmarry].agemarry.isnull()))\n",
    "    \n",
    "for cycle, group in df.groupby('cycle'):\n",
    "    CheckAgeVars(group)"
   ]
  },
  {
   "cell_type": "markdown",
   "metadata": {},
   "source": [
    "Generate a table with the number of respondents in each cohort:"
   ]
  },
  {
   "cell_type": "code",
   "execution_count": 6,
   "metadata": {},
   "outputs": [
    {
     "name": "stdout",
     "output_type": "stream",
     "text": [
      "30 & 325 & 42--45 & 310 & 0 \\\\\n",
      "40 & 3608 & 32--45 & 3287 & 9 \\\\\n",
      "50 & 10631 & 22--45 & 8667 & 18 \\\\\n",
      "60 & 14951 & 15--50 & 8813 & 33 \\\\\n",
      "70 & 15016 & 14--47 & 8075 & 30 \\\\\n",
      "80 & 12397 & 14--37 & 4208 & 13 \\\\\n",
      "90 & 6695 & 15--27 & 517 & 0 \\\\\n",
      "100 & 419 & 15--17 & 0 & 0 \\\\\n"
     ]
    }
   ],
   "source": [
    "marriage.DigitizeResp(df)\n",
    "grouped = df.groupby('birth_index')\n",
    "for name, group in iter(grouped):\n",
    "    age_range = '%d--%d' % (int(group.age.min()), int(group.age_index.max()))\n",
    "    print(name, '&', len(group), '&', age_range,\n",
    "                '&', len(group[group.evrmarry]), '&', sum(group.missing), r'\\\\')"
   ]
  },
  {
   "cell_type": "code",
   "execution_count": 7,
   "metadata": {},
   "outputs": [],
   "source": [
    "def ComputeCutoffs(df):\n",
    "    grouped = df.groupby('birth_index')\n",
    "    cutoffs = {}\n",
    "    for name, group in sorted(grouped):\n",
    "        cutoffs[name] = int(group.age.max())\n",
    "    return cutoffs"
   ]
  },
  {
   "cell_type": "code",
   "execution_count": 8,
   "metadata": {},
   "outputs": [
    {
     "data": {
      "text/plain": [
       "{30: 45, 40: 45, 50: 45, 60: 50, 70: 47, 80: 37, 90: 27, 100: 17}"
      ]
     },
     "execution_count": 8,
     "metadata": {},
     "output_type": "execute_result"
    }
   ],
   "source": [
    "cutoffs = ComputeCutoffs(df)\n",
    "cutoffs"
   ]
  },
  {
   "cell_type": "markdown",
   "metadata": {},
   "source": [
    "Estimate the hazard function for the 80s cohort (curious to see what's going on during the \"marriage strike\")"
   ]
  },
  {
   "cell_type": "code",
   "execution_count": 9,
   "metadata": {},
   "outputs": [
    {
     "name": "stdout",
     "output_type": "stream",
     "text": [
      "10\t12384\t1\t0\t8.1e-05\n",
      "11\t12383\t1\t0\t8.1e-05\n",
      "12\t12382\t1\t0\t8.1e-05\n",
      "13\t12381\t10\t0\t0.00081\n",
      "14\t12371\t12\t14\t0.00097\n",
      "15\t12345\t40\t260\t0.0032\n",
      "16\t12045\t104\t242\t0.0086\n",
      "17\t11699\t152\t338\t0.013\n",
      "18\t11209\t345\t460\t0.031\n",
      "19\t10404\t436\t569\t0.042\n",
      "20\t9399\t440\t579\t0.047\n",
      "21\t8380\t426\t572\t0.051\n",
      "22\t7382\t452\t572\t0.061\n",
      "23\t6358\t383\t454\t0.06\n",
      "24\t5521\t370\t533\t0.067\n",
      "25\t4618\t317\t576\t0.069\n",
      "26\t3725\t233\t554\t0.063\n",
      "27\t2938\t167\t506\t0.057\n",
      "28\t2265\t128\t423\t0.057\n",
      "29\t1714\t76\t391\t0.044\n",
      "30\t1247\t44\t280\t0.035\n",
      "31\t923\t34\t261\t0.037\n",
      "32\t628\t10\t222\t0.016\n",
      "33\t396\t9\t144\t0.023\n",
      "34\t243\t2\t101\t0.0082\n",
      "35\t140\t1\t72\t0.0071\n",
      "36\t67\t1\t51\t0.015\n",
      "37\t15\t0\t15\t0\n"
     ]
    }
   ],
   "source": [
    "cohort = grouped.get_group(80)\n",
    "missing = (cohort.evrmarry & cohort.agemarry.isnull())\n",
    "cohort = cohort[~missing]\n",
    "complete = cohort[cohort.evrmarry].agemarry_index\n",
    "ongoing = cohort[~cohort.evrmarry].age_index\n",
    "hf = survival.EstimateHazardFunction(complete, ongoing, verbose=True)"
   ]
  },
  {
   "cell_type": "markdown",
   "metadata": {},
   "source": [
    "Run the same analysis for the 70s cohort (to extract $\\lambda(33)$)."
   ]
  },
  {
   "cell_type": "code",
   "execution_count": 10,
   "metadata": {},
   "outputs": [
    {
     "name": "stdout",
     "output_type": "stream",
     "text": [
      "10\t14986\t2\t0\t0.00013\n",
      "11\t14984\t1\t0\t6.7e-05\n",
      "12\t14983\t4\t0\t0.00027\n",
      "13\t14979\t11\t0\t0.00073\n",
      "14\t14968\t38\t3\t0.0025\n",
      "15\t14927\t81\t388\t0.0054\n",
      "16\t14458\t181\t518\t0.013\n",
      "17\t13759\t275\t540\t0.02\n",
      "18\t12944\t562\t340\t0.043\n",
      "19\t12042\t656\t268\t0.054\n",
      "20\t11118\t635\t242\t0.057\n",
      "21\t10241\t672\t220\t0.066\n",
      "22\t9349\t702\t264\t0.075\n",
      "23\t8383\t673\t347\t0.08\n",
      "24\t7363\t611\t345\t0.083\n",
      "25\t6407\t538\t205\t0.084\n",
      "26\t5664\t481\t149\t0.085\n",
      "27\t5034\t359\t164\t0.071\n",
      "28\t4511\t373\t198\t0.083\n",
      "29\t3940\t294\t215\t0.075\n",
      "30\t3431\t235\t315\t0.068\n",
      "31\t2881\t158\t278\t0.055\n",
      "32\t2445\t138\t212\t0.056\n",
      "33\t2095\t97\t155\t0.046\n",
      "34\t1843\t78\t173\t0.042\n",
      "35\t1592\t61\t216\t0.038\n",
      "36\t1315\t34\t203\t0.026\n",
      "37\t1078\t30\t186\t0.028\n",
      "38\t862\t19\t169\t0.022\n",
      "39\t674\t15\t142\t0.022\n",
      "40\t517\t11\t103\t0.021\n",
      "41\t403\t6\t104\t0.015\n",
      "42\t293\t8\t90\t0.027\n",
      "43\t195\t3\t77\t0.015\n",
      "44\t115\t2\t53\t0.017\n",
      "45\t60\t1\t28\t0.017\n",
      "46\t31\t0\t21\t0\n",
      "47\t10\t0\t10\t0\n"
     ]
    }
   ],
   "source": [
    "cohort = grouped.get_group(70)\n",
    "missing = (cohort.evrmarry & cohort.agemarry.isnull())\n",
    "cohort = cohort[~missing]\n",
    "complete = cohort[cohort.evrmarry].agemarry_index\n",
    "ongoing = cohort[~cohort.evrmarry].age_index\n",
    "hf = survival.EstimateHazardFunction(complete, ongoing, verbose=True)"
   ]
  },
  {
   "cell_type": "markdown",
   "metadata": {},
   "source": [
    "Use the 30s cohort to demonstrate the simple way to do survival analysis, by computing the survival function directly."
   ]
  },
  {
   "cell_type": "code",
   "execution_count": 11,
   "metadata": {},
   "outputs": [
    {
     "name": "stdout",
     "output_type": "stream",
     "text": [
      "[ 9.93846154e-01  9.69230769e-01  9.47692308e-01  9.01538462e-01\n",
      "  8.18461538e-01  6.86153846e-01  5.60000000e-01  4.64615385e-01\n",
      "  3.63076923e-01  2.95384615e-01  2.61538462e-01  2.33846154e-01\n",
      "  2.12307692e-01  1.75384615e-01  1.47692308e-01  1.32307692e-01\n",
      "  1.10769231e-01  1.01538462e-01  8.92307692e-02  7.69230769e-02\n",
      "  7.38461538e-02  6.46153846e-02  6.15384615e-02  5.84615385e-02\n",
      "  5.53846154e-02  4.92307692e-02  4.61538462e-02 -2.22044605e-16]\n"
     ]
    },
    {
     "data": {
      "image/png": "[encoded data removed]",
      "text/plain": [
       "<Figure size 432x288 with 1 Axes>"
      ]
     },
     "metadata": {
      "needs_background": "light"
     },
     "output_type": "display_data"
    }
   ],
   "source": [
    "cohort = grouped.get_group(30)\n",
    "sf = survival.MakeSurvivalFromSeq(cohort.agemarry_index.fillna(np.inf))\n",
    "ts, ss = sf.Render()\n",
    "print(ss)\n",
    "thinkplot.Plot(ts, ss)\n",
    "thinkplot.Config(xlim=[12, 42])"
   ]
  },
  {
   "cell_type": "markdown",
   "metadata": {},
   "source": [
    "Then use the SurvivalFunction to compute the HazardFunction:"
   ]
  },
  {
   "cell_type": "code",
   "execution_count": 12,
   "metadata": {},
   "outputs": [
    {
     "name": "stdout",
     "output_type": "stream",
     "text": [
      "[0.00615385 0.0247678  0.02222222 0.0487013  0.09215017 0.16165414\n",
      " 0.1838565  0.17032967 0.21854305 0.18644068 0.11458333 0.10588235\n",
      " 0.09210526 0.17391304 0.15789474 0.10416667 0.1627907  0.08333333\n",
      " 0.12121212 0.13793103 0.04       0.125      0.04761905 0.05\n",
      " 0.05263158 0.11111111 0.0625     1.        ]\n"
     ]
    },
    {
     "data": {
      "image/png": "[encoded data removed]",
      "text/plain": [
       "<Figure size 432x288 with 1 Axes>"
      ]
     },
     "metadata": {
      "needs_background": "light"
     },
     "output_type": "display_data"
    }
   ],
   "source": [
    "hf = sf.MakeHazardFunction()\n",
    "ts, lams = hf.Render()\n",
    "print(lams)\n",
    "thinkplot.Plot(ts, lams)\n",
    "thinkplot.Config(xlim=[12, 42])"
   ]
  },
  {
   "cell_type": "markdown",
   "metadata": {},
   "source": [
    "Make the first figure, showing sf and hf for the 30s cohort:"
   ]
  },
  {
   "cell_type": "code",
   "execution_count": 13,
   "metadata": {},
   "outputs": [],
   "source": [
    "options = dict(formats=['pdf', 'png'], clf=False)"
   ]
  },
  {
   "cell_type": "code",
   "execution_count": 14,
   "metadata": {},
   "outputs": [
    {
     "name": "stdout",
     "output_type": "stream",
     "text": [
      "Writing figs/marriage1.pdf\n",
      "Writing figs/marriage1.png\n"
     ]
    },
    {
     "data": {
      "image/png": "[encoded data removed]",
      "text/plain": [
       "<Figure size 432x288 with 2 Axes>"
      ]
     },
     "metadata": {
      "needs_background": "light"
     },
     "output_type": "display_data"
    }
   ],
   "source": [
    "thinkplot.PrePlot(rows=2)\n",
    "\n",
    "thinkplot.Plot(sf, label='survival')\n",
    "thinkplot.Config(xlim=[13, 41], ylim=[0, 1.05])\n",
    "plt.ylabel('Survival Function')\n",
    "\n",
    "thinkplot.SubPlot(2)\n",
    "thinkplot.Plot(hf, label='hazard')\n",
    "thinkplot.Config(xlabel='age(years)', ylabel='Hazard function', xlim=[13, 41])\n",
    "plt.ylabel('Hazard Function')\n",
    "plt.xlabel('Age (years)')\n",
    "\n",
    "thinkplot.Save(root='figs/marriage1', **options)"
   ]
  },
  {
   "cell_type": "code",
   "execution_count": 15,
   "metadata": {},
   "outputs": [
    {
     "name": "stdout",
     "output_type": "stream",
     "text": [
      "Writing figs/marriage2.pdf\n",
      "Writing figs/marriage2.png\n"
     ]
    },
    {
     "data": {
      "image/png": "[encoded data removed]",
      "text/plain": [
       "<Figure size 432x288 with 1 Axes>"
      ]
     },
     "metadata": {
      "needs_background": "light"
     },
     "output_type": "display_data"
    }
   ],
   "source": [
    "thinkplot.Plot(sf, label='30s')\n",
    "thinkplot.Config(xlim=[13, 41], ylim=[0, 1.05])\n",
    "plt.xlabel('Age (years)', fontsize=14)\n",
    "plt.ylabel('Survival function', fontsize=14)\n",
    "\n",
    "thinkplot.Save(root='figs/marriage2', **options)"
   ]
  },
  {
   "cell_type": "code",
   "execution_count": 16,
   "metadata": {},
   "outputs": [
    {
     "name": "stdout",
     "output_type": "stream",
     "text": [
      "Writing figs/marriage3.pdf\n",
      "Writing figs/marriage3.png\n"
     ]
    },
    {
     "data": {
      "image/png": "[encoded data removed]",
      "text/plain": [
       "<Figure size 432x288 with 1 Axes>"
      ]
     },
     "metadata": {
      "needs_background": "light"
     },
     "output_type": "display_data"
    }
   ],
   "source": [
    "thinkplot.Plot(hf, label='30s')\n",
    "thinkplot.Config(xlim=[13, 41])\n",
    "plt.xlabel('Age (years)', fontsize=14)\n",
    "plt.ylabel('Hazard function', fontsize=14)\n",
    "\n",
    "thinkplot.Save(root='figs/marriage3', **options)"
   ]
  },
  {
   "cell_type": "markdown",
   "metadata": {},
   "source": [
    "Make some pivot tables, just to see where the data are:"
   ]
  },
  {
   "cell_type": "code",
   "execution_count": 17,
   "metadata": {},
   "outputs": [
    {
     "data": {
      "text/html": [
       "<div>\n",
       "<style scoped>\n",
       "    .dataframe tbody tr th:only-of-type {\n",
       "        vertical-align: middle;\n",
       "    }\n",
       "\n",
       "    .dataframe tbody tr th {\n",
       "        vertical-align: top;\n",
       "    }\n",
       "\n",
       "    .dataframe thead th {\n",
       "        text-align: right;\n",
       "    }\n",
       "</style>\n",
       "<table border=\"1\" class=\"dataframe\">\n",
       "  <thead>\n",
       "    <tr style=\"text-align: right;\">\n",
       "      <th>age_index</th>\n",
       "      <th>14.0</th>\n",
       "      <th>15.0</th>\n",
       "      <th>16.0</th>\n",
       "      <th>17.0</th>\n",
       "      <th>18.0</th>\n",
       "      <th>19.0</th>\n",
       "      <th>20.0</th>\n",
       "      <th>21.0</th>\n",
       "      <th>22.0</th>\n",
       "      <th>23.0</th>\n",
       "      <th>...</th>\n",
       "      <th>41.0</th>\n",
       "      <th>42.0</th>\n",
       "      <th>43.0</th>\n",
       "      <th>44.0</th>\n",
       "      <th>45.0</th>\n",
       "      <th>46.0</th>\n",
       "      <th>47.0</th>\n",
       "      <th>48.0</th>\n",
       "      <th>49.0</th>\n",
       "      <th>50.0</th>\n",
       "    </tr>\n",
       "    <tr>\n",
       "      <th>birth_index</th>\n",
       "      <th></th>\n",
       "      <th></th>\n",
       "      <th></th>\n",
       "      <th></th>\n",
       "      <th></th>\n",
       "      <th></th>\n",
       "      <th></th>\n",
       "      <th></th>\n",
       "      <th></th>\n",
       "      <th></th>\n",
       "      <th></th>\n",
       "      <th></th>\n",
       "      <th></th>\n",
       "      <th></th>\n",
       "      <th></th>\n",
       "      <th></th>\n",
       "      <th></th>\n",
       "      <th></th>\n",
       "      <th></th>\n",
       "      <th></th>\n",
       "      <th></th>\n",
       "    </tr>\n",
       "  </thead>\n",
       "  <tbody>\n",
       "    <tr>\n",
       "      <th>30</th>\n",
       "      <td>0</td>\n",
       "      <td>0</td>\n",
       "      <td>0</td>\n",
       "      <td>0</td>\n",
       "      <td>0</td>\n",
       "      <td>0</td>\n",
       "      <td>0</td>\n",
       "      <td>0</td>\n",
       "      <td>0</td>\n",
       "      <td>0</td>\n",
       "      <td>...</td>\n",
       "      <td>0</td>\n",
       "      <td>19</td>\n",
       "      <td>146</td>\n",
       "      <td>148</td>\n",
       "      <td>12</td>\n",
       "      <td>0</td>\n",
       "      <td>0</td>\n",
       "      <td>0</td>\n",
       "      <td>0</td>\n",
       "      <td>0</td>\n",
       "    </tr>\n",
       "    <tr>\n",
       "      <th>40</th>\n",
       "      <td>0</td>\n",
       "      <td>0</td>\n",
       "      <td>0</td>\n",
       "      <td>0</td>\n",
       "      <td>0</td>\n",
       "      <td>0</td>\n",
       "      <td>0</td>\n",
       "      <td>0</td>\n",
       "      <td>0</td>\n",
       "      <td>0</td>\n",
       "      <td>...</td>\n",
       "      <td>414</td>\n",
       "      <td>384</td>\n",
       "      <td>194</td>\n",
       "      <td>198</td>\n",
       "      <td>25</td>\n",
       "      <td>0</td>\n",
       "      <td>0</td>\n",
       "      <td>0</td>\n",
       "      <td>0</td>\n",
       "      <td>0</td>\n",
       "    </tr>\n",
       "    <tr>\n",
       "      <th>50</th>\n",
       "      <td>0</td>\n",
       "      <td>0</td>\n",
       "      <td>0</td>\n",
       "      <td>0</td>\n",
       "      <td>0</td>\n",
       "      <td>0</td>\n",
       "      <td>0</td>\n",
       "      <td>0</td>\n",
       "      <td>42</td>\n",
       "      <td>301</td>\n",
       "      <td>...</td>\n",
       "      <td>371</td>\n",
       "      <td>482</td>\n",
       "      <td>633</td>\n",
       "      <td>533</td>\n",
       "      <td>38</td>\n",
       "      <td>0</td>\n",
       "      <td>0</td>\n",
       "      <td>0</td>\n",
       "      <td>0</td>\n",
       "      <td>0</td>\n",
       "    </tr>\n",
       "    <tr>\n",
       "      <th>60</th>\n",
       "      <td>0</td>\n",
       "      <td>269</td>\n",
       "      <td>300</td>\n",
       "      <td>370</td>\n",
       "      <td>665</td>\n",
       "      <td>722</td>\n",
       "      <td>609</td>\n",
       "      <td>513</td>\n",
       "      <td>520</td>\n",
       "      <td>242</td>\n",
       "      <td>...</td>\n",
       "      <td>562</td>\n",
       "      <td>537</td>\n",
       "      <td>512</td>\n",
       "      <td>517</td>\n",
       "      <td>33</td>\n",
       "      <td>18</td>\n",
       "      <td>83</td>\n",
       "      <td>153</td>\n",
       "      <td>137</td>\n",
       "      <td>2</td>\n",
       "    </tr>\n",
       "    <tr>\n",
       "      <th>70</th>\n",
       "      <td>3</td>\n",
       "      <td>389</td>\n",
       "      <td>523</td>\n",
       "      <td>549</td>\n",
       "      <td>362</td>\n",
       "      <td>293</td>\n",
       "      <td>283</td>\n",
       "      <td>285</td>\n",
       "      <td>365</td>\n",
       "      <td>572</td>\n",
       "      <td>...</td>\n",
       "      <td>430</td>\n",
       "      <td>363</td>\n",
       "      <td>332</td>\n",
       "      <td>241</td>\n",
       "      <td>129</td>\n",
       "      <td>116</td>\n",
       "      <td>38</td>\n",
       "      <td>0</td>\n",
       "      <td>0</td>\n",
       "      <td>0</td>\n",
       "    </tr>\n",
       "    <tr>\n",
       "      <th>80</th>\n",
       "      <td>14</td>\n",
       "      <td>260</td>\n",
       "      <td>242</td>\n",
       "      <td>340</td>\n",
       "      <td>483</td>\n",
       "      <td>589</td>\n",
       "      <td>658</td>\n",
       "      <td>683</td>\n",
       "      <td>705</td>\n",
       "      <td>602</td>\n",
       "      <td>...</td>\n",
       "      <td>0</td>\n",
       "      <td>0</td>\n",
       "      <td>0</td>\n",
       "      <td>0</td>\n",
       "      <td>0</td>\n",
       "      <td>0</td>\n",
       "      <td>0</td>\n",
       "      <td>0</td>\n",
       "      <td>0</td>\n",
       "      <td>0</td>\n",
       "    </tr>\n",
       "    <tr>\n",
       "      <th>90</th>\n",
       "      <td>0</td>\n",
       "      <td>749</td>\n",
       "      <td>829</td>\n",
       "      <td>895</td>\n",
       "      <td>888</td>\n",
       "      <td>737</td>\n",
       "      <td>452</td>\n",
       "      <td>514</td>\n",
       "      <td>465</td>\n",
       "      <td>392</td>\n",
       "      <td>...</td>\n",
       "      <td>0</td>\n",
       "      <td>0</td>\n",
       "      <td>0</td>\n",
       "      <td>0</td>\n",
       "      <td>0</td>\n",
       "      <td>0</td>\n",
       "      <td>0</td>\n",
       "      <td>0</td>\n",
       "      <td>0</td>\n",
       "      <td>0</td>\n",
       "    </tr>\n",
       "    <tr>\n",
       "      <th>100</th>\n",
       "      <td>0</td>\n",
       "      <td>181</td>\n",
       "      <td>171</td>\n",
       "      <td>67</td>\n",
       "      <td>0</td>\n",
       "      <td>0</td>\n",
       "      <td>0</td>\n",
       "      <td>0</td>\n",
       "      <td>0</td>\n",
       "      <td>0</td>\n",
       "      <td>...</td>\n",
       "      <td>0</td>\n",
       "      <td>0</td>\n",
       "      <td>0</td>\n",
       "      <td>0</td>\n",
       "      <td>0</td>\n",
       "      <td>0</td>\n",
       "      <td>0</td>\n",
       "      <td>0</td>\n",
       "      <td>0</td>\n",
       "      <td>0</td>\n",
       "    </tr>\n",
       "  </tbody>\n",
       "</table>\n",
       "<p>8 rows × 37 columns</p>\n",
       "</div>"
      ],
      "text/plain": [
       "age_index    14.0  15.0  16.0  17.0  18.0  19.0  20.0  21.0  22.0  23.0  ...   \\\n",
       "birth_index                                                              ...    \n",
       "30              0     0     0     0     0     0     0     0     0     0  ...    \n",
       "40              0     0     0     0     0     0     0     0     0     0  ...    \n",
       "50              0     0     0     0     0     0     0     0    42   301  ...    \n",
       "60              0   269   300   370   665   722   609   513   520   242  ...    \n",
       "70              3   389   523   549   362   293   283   285   365   572  ...    \n",
       "80             14   260   242   340   483   589   658   683   705   602  ...    \n",
       "90              0   749   829   895   888   737   452   514   465   392  ...    \n",
       "100             0   181   171    67     0     0     0     0     0     0  ...    \n",
       "\n",
       "age_index    41.0  42.0  43.0  44.0  45.0  46.0  47.0  48.0  49.0  50.0  \n",
       "birth_index                                                              \n",
       "30              0    19   146   148    12     0     0     0     0     0  \n",
       "40            414   384   194   198    25     0     0     0     0     0  \n",
       "50            371   482   633   533    38     0     0     0     0     0  \n",
       "60            562   537   512   517    33    18    83   153   137     2  \n",
       "70            430   363   332   241   129   116    38     0     0     0  \n",
       "80              0     0     0     0     0     0     0     0     0     0  \n",
       "90              0     0     0     0     0     0     0     0     0     0  \n",
       "100             0     0     0     0     0     0     0     0     0     0  \n",
       "\n",
       "[8 rows x 37 columns]"
      ]
     },
     "execution_count": 17,
     "metadata": {},
     "output_type": "execute_result"
    }
   ],
   "source": [
    "pt = df.pivot_table(index='birth_index', columns='age_index', values='age', aggfunc=len, fill_value=0)\n",
    "pt"
   ]
  },
  {
   "cell_type": "markdown",
   "metadata": {},
   "source": [
    "The following pivot table is not as helpful as it could be, since it doesn't show the number at risk."
   ]
  },
  {
   "cell_type": "code",
   "execution_count": 18,
   "metadata": {},
   "outputs": [
    {
     "data": {
      "text/html": [
       "<div>\n",
       "<style scoped>\n",
       "    .dataframe tbody tr th:only-of-type {\n",
       "        vertical-align: middle;\n",
       "    }\n",
       "\n",
       "    .dataframe tbody tr th {\n",
       "        vertical-align: top;\n",
       "    }\n",
       "\n",
       "    .dataframe thead th {\n",
       "        text-align: right;\n",
       "    }\n",
       "</style>\n",
       "<table border=\"1\" class=\"dataframe\">\n",
       "  <thead>\n",
       "    <tr style=\"text-align: right;\">\n",
       "      <th>agemarry_index</th>\n",
       "      <th>10.0</th>\n",
       "      <th>11.0</th>\n",
       "      <th>12.0</th>\n",
       "      <th>13.0</th>\n",
       "      <th>14.0</th>\n",
       "      <th>15.0</th>\n",
       "      <th>16.0</th>\n",
       "      <th>17.0</th>\n",
       "      <th>18.0</th>\n",
       "      <th>19.0</th>\n",
       "      <th>...</th>\n",
       "      <th>38.0</th>\n",
       "      <th>39.0</th>\n",
       "      <th>40.0</th>\n",
       "      <th>41.0</th>\n",
       "      <th>42.0</th>\n",
       "      <th>43.0</th>\n",
       "      <th>44.0</th>\n",
       "      <th>45.0</th>\n",
       "      <th>46.0</th>\n",
       "      <th>47.0</th>\n",
       "    </tr>\n",
       "    <tr>\n",
       "      <th>birth_index</th>\n",
       "      <th></th>\n",
       "      <th></th>\n",
       "      <th></th>\n",
       "      <th></th>\n",
       "      <th></th>\n",
       "      <th></th>\n",
       "      <th></th>\n",
       "      <th></th>\n",
       "      <th></th>\n",
       "      <th></th>\n",
       "      <th></th>\n",
       "      <th></th>\n",
       "      <th></th>\n",
       "      <th></th>\n",
       "      <th></th>\n",
       "      <th></th>\n",
       "      <th></th>\n",
       "      <th></th>\n",
       "      <th></th>\n",
       "      <th></th>\n",
       "      <th></th>\n",
       "    </tr>\n",
       "  </thead>\n",
       "  <tbody>\n",
       "    <tr>\n",
       "      <th>30</th>\n",
       "      <td>0</td>\n",
       "      <td>0</td>\n",
       "      <td>0</td>\n",
       "      <td>2</td>\n",
       "      <td>8</td>\n",
       "      <td>7</td>\n",
       "      <td>15</td>\n",
       "      <td>27</td>\n",
       "      <td>43</td>\n",
       "      <td>41</td>\n",
       "      <td>...</td>\n",
       "      <td>0</td>\n",
       "      <td>2</td>\n",
       "      <td>1</td>\n",
       "      <td>0</td>\n",
       "      <td>0</td>\n",
       "      <td>0</td>\n",
       "      <td>0</td>\n",
       "      <td>0</td>\n",
       "      <td>0</td>\n",
       "      <td>0</td>\n",
       "    </tr>\n",
       "    <tr>\n",
       "      <th>40</th>\n",
       "      <td>1</td>\n",
       "      <td>0</td>\n",
       "      <td>0</td>\n",
       "      <td>5</td>\n",
       "      <td>31</td>\n",
       "      <td>87</td>\n",
       "      <td>163</td>\n",
       "      <td>218</td>\n",
       "      <td>425</td>\n",
       "      <td>467</td>\n",
       "      <td>...</td>\n",
       "      <td>3</td>\n",
       "      <td>9</td>\n",
       "      <td>3</td>\n",
       "      <td>1</td>\n",
       "      <td>0</td>\n",
       "      <td>0</td>\n",
       "      <td>0</td>\n",
       "      <td>0</td>\n",
       "      <td>0</td>\n",
       "      <td>0</td>\n",
       "    </tr>\n",
       "    <tr>\n",
       "      <th>50</th>\n",
       "      <td>0</td>\n",
       "      <td>0</td>\n",
       "      <td>1</td>\n",
       "      <td>10</td>\n",
       "      <td>50</td>\n",
       "      <td>125</td>\n",
       "      <td>384</td>\n",
       "      <td>642</td>\n",
       "      <td>1111</td>\n",
       "      <td>1057</td>\n",
       "      <td>...</td>\n",
       "      <td>12</td>\n",
       "      <td>11</td>\n",
       "      <td>7</td>\n",
       "      <td>4</td>\n",
       "      <td>4</td>\n",
       "      <td>4</td>\n",
       "      <td>0</td>\n",
       "      <td>0</td>\n",
       "      <td>0</td>\n",
       "      <td>0</td>\n",
       "    </tr>\n",
       "    <tr>\n",
       "      <th>60</th>\n",
       "      <td>0</td>\n",
       "      <td>1</td>\n",
       "      <td>2</td>\n",
       "      <td>8</td>\n",
       "      <td>40</td>\n",
       "      <td>128</td>\n",
       "      <td>300</td>\n",
       "      <td>445</td>\n",
       "      <td>860</td>\n",
       "      <td>831</td>\n",
       "      <td>...</td>\n",
       "      <td>24</td>\n",
       "      <td>24</td>\n",
       "      <td>18</td>\n",
       "      <td>13</td>\n",
       "      <td>11</td>\n",
       "      <td>5</td>\n",
       "      <td>2</td>\n",
       "      <td>3</td>\n",
       "      <td>1</td>\n",
       "      <td>1</td>\n",
       "    </tr>\n",
       "    <tr>\n",
       "      <th>70</th>\n",
       "      <td>2</td>\n",
       "      <td>1</td>\n",
       "      <td>4</td>\n",
       "      <td>11</td>\n",
       "      <td>38</td>\n",
       "      <td>81</td>\n",
       "      <td>181</td>\n",
       "      <td>276</td>\n",
       "      <td>562</td>\n",
       "      <td>656</td>\n",
       "      <td>...</td>\n",
       "      <td>19</td>\n",
       "      <td>15</td>\n",
       "      <td>11</td>\n",
       "      <td>6</td>\n",
       "      <td>8</td>\n",
       "      <td>3</td>\n",
       "      <td>2</td>\n",
       "      <td>1</td>\n",
       "      <td>0</td>\n",
       "      <td>0</td>\n",
       "    </tr>\n",
       "    <tr>\n",
       "      <th>80</th>\n",
       "      <td>1</td>\n",
       "      <td>1</td>\n",
       "      <td>1</td>\n",
       "      <td>10</td>\n",
       "      <td>12</td>\n",
       "      <td>40</td>\n",
       "      <td>104</td>\n",
       "      <td>152</td>\n",
       "      <td>345</td>\n",
       "      <td>436</td>\n",
       "      <td>...</td>\n",
       "      <td>0</td>\n",
       "      <td>0</td>\n",
       "      <td>0</td>\n",
       "      <td>0</td>\n",
       "      <td>0</td>\n",
       "      <td>0</td>\n",
       "      <td>0</td>\n",
       "      <td>0</td>\n",
       "      <td>0</td>\n",
       "      <td>0</td>\n",
       "    </tr>\n",
       "    <tr>\n",
       "      <th>90</th>\n",
       "      <td>0</td>\n",
       "      <td>0</td>\n",
       "      <td>0</td>\n",
       "      <td>0</td>\n",
       "      <td>2</td>\n",
       "      <td>6</td>\n",
       "      <td>15</td>\n",
       "      <td>49</td>\n",
       "      <td>86</td>\n",
       "      <td>92</td>\n",
       "      <td>...</td>\n",
       "      <td>0</td>\n",
       "      <td>0</td>\n",
       "      <td>0</td>\n",
       "      <td>0</td>\n",
       "      <td>0</td>\n",
       "      <td>0</td>\n",
       "      <td>0</td>\n",
       "      <td>0</td>\n",
       "      <td>0</td>\n",
       "      <td>0</td>\n",
       "    </tr>\n",
       "  </tbody>\n",
       "</table>\n",
       "<p>7 rows × 38 columns</p>\n",
       "</div>"
      ],
      "text/plain": [
       "agemarry_index  10.0  11.0  12.0  13.0  14.0  15.0  16.0  17.0  18.0  19.0  \\\n",
       "birth_index                                                                  \n",
       "30                 0     0     0     2     8     7    15    27    43    41   \n",
       "40                 1     0     0     5    31    87   163   218   425   467   \n",
       "50                 0     0     1    10    50   125   384   642  1111  1057   \n",
       "60                 0     1     2     8    40   128   300   445   860   831   \n",
       "70                 2     1     4    11    38    81   181   276   562   656   \n",
       "80                 1     1     1    10    12    40   104   152   345   436   \n",
       "90                 0     0     0     0     2     6    15    49    86    92   \n",
       "\n",
       "agemarry_index  ...   38.0  39.0  40.0  41.0  42.0  43.0  44.0  45.0  46.0  \\\n",
       "birth_index     ...                                                          \n",
       "30              ...      0     2     1     0     0     0     0     0     0   \n",
       "40              ...      3     9     3     1     0     0     0     0     0   \n",
       "50              ...     12    11     7     4     4     4     0     0     0   \n",
       "60              ...     24    24    18    13    11     5     2     3     1   \n",
       "70              ...     19    15    11     6     8     3     2     1     0   \n",
       "80              ...      0     0     0     0     0     0     0     0     0   \n",
       "90              ...      0     0     0     0     0     0     0     0     0   \n",
       "\n",
       "agemarry_index  47.0  \n",
       "birth_index           \n",
       "30                 0  \n",
       "40                 0  \n",
       "50                 0  \n",
       "60                 1  \n",
       "70                 0  \n",
       "80                 0  \n",
       "90                 0  \n",
       "\n",
       "[7 rows x 38 columns]"
      ]
     },
     "execution_count": 18,
     "metadata": {},
     "output_type": "execute_result"
    }
   ],
   "source": [
    "df.pivot_table(index='birth_index', columns='agemarry_index', values='age', aggfunc=len, fill_value=0)"
   ]
  },
  {
   "cell_type": "markdown",
   "metadata": {},
   "source": [
    "Estimate the survival curve for each cohort:"
   ]
  },
  {
   "cell_type": "code",
   "execution_count": 19,
   "metadata": {},
   "outputs": [],
   "source": [
    "df['complete'] = df.evrmarry\n",
    "df['complete_var'] = df.agemarry_index\n",
    "df['ongoing_var'] = df.age_index\n",
    "df['complete_missing'] = df.complete & df.complete_var.isnull()\n",
    "df['ongoing_missing'] = ~df.complete & df.ongoing_var.isnull()"
   ]
  },
  {
   "cell_type": "code",
   "execution_count": 20,
   "metadata": {},
   "outputs": [
    {
     "name": "stdout",
     "output_type": "stream",
     "text": [
      "3 0 0\n",
      "4 22 0\n",
      "5 0 0\n",
      "6 37 0\n",
      "7 16 0\n",
      "8 17 0\n",
      "9 11 0\n",
      "10 0 0\n"
     ]
    }
   ],
   "source": [
    "# for some marriages, we don't have the date of marriage\n",
    "\n",
    "for cycle, group in df.groupby('cycle'):\n",
    "    print(cycle, sum(group.complete_missing), sum(group.ongoing_missing))"
   ]
  },
  {
   "cell_type": "code",
   "execution_count": 21,
   "metadata": {},
   "outputs": [],
   "source": [
    "resps = [group for cycle, group in df.groupby('cycle')]\n",
    "# iters = 101\n",
    "iters = 11"
   ]
  },
  {
   "cell_type": "code",
   "execution_count": 22,
   "metadata": {},
   "outputs": [
    {
     "name": "stdout",
     "output_type": "stream",
     "text": [
      "Wall time: 2.03 s\n"
     ]
    }
   ],
   "source": [
    "%time sf_map = marriage.EstimateSurvivalByCohort(resps, iters=iters, cutoffs=cutoffs)"
   ]
  },
  {
   "cell_type": "code",
   "execution_count": 23,
   "metadata": {},
   "outputs": [],
   "source": [
    "del sf_map[30]\n",
    "\n",
    "try: \n",
    "    del sf_map[100]\n",
    "except KeyError:\n",
    "    pass"
   ]
  },
  {
   "cell_type": "markdown",
   "metadata": {},
   "source": [
    "Check a sample:"
   ]
  },
  {
   "cell_type": "code",
   "execution_count": 24,
   "metadata": {},
   "outputs": [
    {
     "name": "stdout",
     "output_type": "stream",
     "text": [
      "14.0    0.999681\n",
      "15.0    0.998723\n",
      "16.0    0.997109\n",
      "17.0    0.987191\n",
      "18.0    0.965843\n",
      "19.0    0.939526\n",
      "20.0    0.905958\n",
      "21.0    0.879493\n",
      "22.0    0.844491\n",
      "23.0    0.812266\n",
      "24.0    0.775896\n",
      "25.0    0.764316\n",
      "26.0    0.764316\n",
      "dtype: float64\n",
      "0.7643155079315481\n"
     ]
    }
   ],
   "source": [
    "for sf in sf_map[90]:\n",
    "    print(sf.ss)\n",
    "    print(sf.Prob(34))\n",
    "    break"
   ]
  },
  {
   "cell_type": "code",
   "execution_count": 25,
   "metadata": {},
   "outputs": [
    {
     "name": "stdout",
     "output_type": "stream",
     "text": [
      "10.0    0.999915\n",
      "11.0    0.999660\n",
      "13.0    0.998809\n",
      "14.0    0.998044\n",
      "15.0    0.993955\n",
      "16.0    0.986987\n",
      "17.0    0.974581\n",
      "18.0    0.942401\n",
      "19.0    0.902926\n",
      "20.0    0.865593\n",
      "21.0    0.815632\n",
      "22.0    0.760069\n",
      "23.0    0.706092\n",
      "24.0    0.649355\n",
      "25.0    0.586096\n",
      "26.0    0.531331\n",
      "27.0    0.483697\n",
      "28.0    0.444862\n",
      "29.0    0.416488\n",
      "30.0    0.399811\n",
      "31.0    0.382231\n",
      "32.0    0.373702\n",
      "33.0    0.350507\n",
      "34.0    0.350507\n",
      "35.0    0.350507\n",
      "36.0    0.350507\n",
      "dtype: float64\n",
      "0.3505069037140526\n"
     ]
    }
   ],
   "source": [
    "for sf in sf_map[80]:\n",
    "    print(sf.ss)\n",
    "    print(sf.Prob(34))\n",
    "    break"
   ]
  },
  {
   "cell_type": "markdown",
   "metadata": {},
   "source": [
    "Make the figure showing estimated survival curves:"
   ]
  },
  {
   "cell_type": "code",
   "execution_count": 26,
   "metadata": {},
   "outputs": [],
   "source": [
    "def PlotSurvivalFunctions(root, sf_map, sf_map_pred=None, **options):\n",
    "\n",
    "    if sf_map_pred:\n",
    "        marriage.PlotSurvivalFunctions(sf_map_pred, predict_flag=True)\n",
    "    marriage.PlotSurvivalFunctions(sf_map)\n",
    "\n",
    "    thinkplot.config(xlabel='Age (years)',\n",
    "                     ylabel='Fraction never married',\n",
    "                     xlim=[13, 50], \n",
    "                     ylim=[0, 1.05], \n",
    "                     loc='upper right', \n",
    "                     frameon=False,\n",
    "                     **options)\n",
    "    plt.tight_layout()\n",
    "    thinkplot.save(root=root, formats=['pdf', 'png'])"
   ]
  },
  {
   "cell_type": "code",
   "execution_count": 27,
   "metadata": {},
   "outputs": [],
   "source": [
    "def set_palette(*args, **kwds):\n",
    "    \"\"\"Set the matplotlib color cycler.\n",
    "    \n",
    "    args, kwds: same as for sns.color_palette\n",
    "    \n",
    "    Also takes a boolean kwd, `reverse`, to indicate\n",
    "    whether the order of the palette should be reversed.\n",
    "    \n",
    "    returns: list of colors\n",
    "    \"\"\"\n",
    "    reverse = kwds.pop('reverse', False)\n",
    "    palette = sns.color_palette(*args, **kwds)\n",
    "    \n",
    "    palette = list(palette)\n",
    "    if reverse:\n",
    "        palette.reverse()\n",
    "        \n",
    "    cycler = plt.cycler(color=palette)\n",
    "    plt.gca().set_prop_cycle(cycler)\n",
    "    return palette"
   ]
  },
  {
   "cell_type": "code",
   "execution_count": 28,
   "metadata": {},
   "outputs": [],
   "source": [
    "def draw_age_lines(ages):\n",
    "    for age in ages:\n",
    "        plt.axvline(age, color='gray', linestyle='dotted', alpha=0.3)"
   ]
  },
  {
   "cell_type": "code",
   "execution_count": 29,
   "metadata": {},
   "outputs": [
    {
     "name": "stdout",
     "output_type": "stream",
     "text": [
      "Writing figs/marriage4.pdf\n",
      "Writing figs/marriage4.png\n"
     ]
    },
    {
     "data": {
      "image/png": "[encoded data removed]",
      "text/plain": [
       "<Figure size 432x288 with 1 Axes>"
      ]
     },
     "metadata": {
      "needs_background": "light"
     },
     "output_type": "display_data"
    }
   ],
   "source": [
    "ages = [24, 34, 44]\n",
    "palette = set_palette('hls', 6)\n",
    "draw_age_lines(ages)\n",
    "options_w = dict(title='Women in the U.S. by decade of birth')\n",
    "PlotSurvivalFunctions('figs/marriage4', sf_map, None, **options_w)"
   ]
  },
  {
   "cell_type": "markdown",
   "metadata": {},
   "source": [
    "Make a table of marriage rates for each cohort at each age:"
   ]
  },
  {
   "cell_type": "code",
   "execution_count": 30,
   "metadata": {},
   "outputs": [],
   "source": [
    "def MakeTable(sf_map, ages):\n",
    "    t = []\n",
    "    for name, sf_seq in sorted(sf_map.items()):\n",
    "        ts, ss = marriage.MakeSurvivalCI(sf_seq, [50])\n",
    "        ss = ss[0]\n",
    "        vals = [np.interp(age, ts, ss, right=np.nan) for age in ages]\n",
    "        t.append((name, vals))\n",
    "    return t"
   ]
  },
  {
   "cell_type": "code",
   "execution_count": 31,
   "metadata": {},
   "outputs": [
    {
     "name": "stdout",
     "output_type": "stream",
     "text": [
      "40 & 21 & 8 & 7 \\\\\n",
      "50 & 32 & 14 & 10 \\\\\n",
      "60 & 47 & 18 & 12 \\\\\n",
      "70 & 54 & 23 & 18 \\\\\n",
      "80 & 64 & 35 & nan \\\\\n",
      "90 & 77 & nan & nan \\\\\n"
     ]
    }
   ],
   "source": [
    "def MakePercentageTable(sf_map, ages):\n",
    "    \"\"\"Prints percentage unmarried for each cohort at each age.\n",
    "    \"\"\"\n",
    "    t = MakeTable(sf_map, ages)\n",
    "    for name, sf_seq in sorted(sf_map.items()):\n",
    "        ts, ss = marriage.MakeSurvivalCI(sf_seq, [50])\n",
    "        ss = ss[0]\n",
    "        vals = [np.interp(age, ts, ss, right=np.nan) for age in ages]\n",
    "        print(name, '&', ' & '.join('%0.0f' % (val*100) for val in vals), r'\\\\')\n",
    "        \n",
    "ages = [24, 34, 44]\n",
    "MakePercentageTable(sf_map, ages=ages)"
   ]
  },
  {
   "cell_type": "markdown",
   "metadata": {},
   "source": [
    "Generate projections:"
   ]
  },
  {
   "cell_type": "code",
   "execution_count": 32,
   "metadata": {},
   "outputs": [
    {
     "name": "stdout",
     "output_type": "stream",
     "text": [
      "Wall time: 2.07 s\n"
     ]
    }
   ],
   "source": [
    "%time sf_map_pred = marriage.EstimateSurvivalByCohort(resps, iters=iters, cutoffs=cutoffs, predict_flag=True)\n",
    "del sf_map_pred[30]\n",
    "\n",
    "try: \n",
    "    del sf_map[100]\n",
    "except KeyError:\n",
    "    pass"
   ]
  },
  {
   "cell_type": "code",
   "execution_count": 33,
   "metadata": {},
   "outputs": [
    {
     "name": "stdout",
     "output_type": "stream",
     "text": [
      "40 20.0\n",
      "50 21.0\n",
      "60 24.0\n",
      "70 25.0\n",
      "80 27.0\n",
      "90 37.0\n"
     ]
    }
   ],
   "source": [
    "for cohort, seq in sf_map_pred.items():\n",
    "    if cohort > 90:\n",
    "        break\n",
    "    medians = [sf.MakeCdf().Value(0.5) for sf in seq]\n",
    "    print(cohort, np.median(medians))"
   ]
  },
  {
   "cell_type": "markdown",
   "metadata": {},
   "source": [
    "And make the figure showing projections:"
   ]
  },
  {
   "cell_type": "code",
   "execution_count": 34,
   "metadata": {},
   "outputs": [
    {
     "name": "stdout",
     "output_type": "stream",
     "text": [
      "Writing figs/marriage5.pdf\n",
      "Writing figs/marriage5.png\n"
     ]
    },
    {
     "data": {
      "image/png": "[encoded data removed]",
      "text/plain": [
       "<Figure size 432x288 with 1 Axes>"
      ]
     },
     "metadata": {
      "needs_background": "light"
     },
     "output_type": "display_data"
    }
   ],
   "source": [
    "palette = set_palette('hls', 6)\n",
    "draw_age_lines(ages)\n",
    "PlotSurvivalFunctions('figs/marriage5', sf_map, sf_map_pred, **options_w)"
   ]
  },
  {
   "cell_type": "markdown",
   "metadata": {},
   "source": [
    "Make the table again with the projections filled in."
   ]
  },
  {
   "cell_type": "code",
   "execution_count": 35,
   "metadata": {
    "scrolled": true
   },
   "outputs": [
    {
     "name": "stdout",
     "output_type": "stream",
     "text": [
      "40 & 21 & 9 & 8 \\\\\n",
      "50 & 32 & 14 & 10 \\\\\n",
      "60 & 47 & 18 & 12 \\\\\n",
      "70 & 55 & 23 & 18 \\\\\n",
      "80 & 64 & 36 & 30 \\\\\n",
      "90 & 77 & 52 & 43 \\\\\n",
      "100 & 77 & 52 & 43 \\\\\n"
     ]
    }
   ],
   "source": [
    "MakePercentageTable(sf_map_pred, ages)"
   ]
  },
  {
   "cell_type": "code",
   "execution_count": 36,
   "metadata": {
    "scrolled": true
   },
   "outputs": [],
   "source": [
    "def PlotFractions(sf_map, ages, label_flag=False, **options):\n",
    "    t = MakeTable(sf_map, ages)\n",
    "    cohorts, cols = zip(*t)\n",
    "    rows = zip(*cols)\n",
    "\n",
    "    thinkplot.PrePlot(3)\n",
    "    t = list(zip(ages, rows))\n",
    "    for age, row in reversed(t):\n",
    "        label = 'at age %d' % age if label_flag else ''\n",
    "        thinkplot.Plot(cohorts, row, label=label, **options)"
   ]
  },
  {
   "cell_type": "code",
   "execution_count": 37,
   "metadata": {},
   "outputs": [
    {
     "name": "stdout",
     "output_type": "stream",
     "text": [
      "Writing figs/marriage6.pdf\n",
      "Writing figs/marriage6.png\n"
     ]
    },
    {
     "name": "stderr",
     "output_type": "stream",
     "text": [
      "C:\\Miniconda3\\lib\\site-packages\\matplotlib\\figure.py:98: MatplotlibDeprecationWarning: \n",
      "Adding an axes using the same arguments as a previous axes currently reuses the earlier instance.  In a future version, a new instance will always be created and returned.  Meanwhile, this warning can be suppressed, and the future behavior ensured, by passing a unique label to each axes instance.\n",
      "  \"Adding an axes using the same arguments as a previous axes \"\n"
     ]
    },
    {
     "data": {
      "image/png": "[encoded data removed]",
      "text/plain": [
       "<Figure size 576x720 with 1 Axes>"
      ]
     },
     "metadata": {
      "needs_background": "light"
     },
     "output_type": "display_data"
    }
   ],
   "source": [
    "PlotFractions(sf_map_pred, ages, color='gray', linestyle='dashed', linewidth=2)\n",
    "PlotFractions(sf_map, ages, label_flag=True, alpha=1)\n",
    "\n",
    "fontsize=12\n",
    "thinkplot.Text(36, 0.26, '24', fontsize=fontsize)\n",
    "thinkplot.Text(37, 0.13, '9', fontsize=fontsize)\n",
    "thinkplot.Text(37, 0.07, '7', fontsize=fontsize)\n",
    "\n",
    "thinkplot.Text(90, 0.85, '80', fontsize=fontsize)\n",
    "thinkplot.Text(90, 0.56, '51', fontsize=fontsize)\n",
    "thinkplot.Text(89.5, 0.47, '42', fontsize=fontsize)\n",
    "\n",
    "thinkplot.Text(80, 0.42, '35', fontsize=fontsize)\n",
    "thinkplot.Text(70, 0.18, '18', fontsize=fontsize)\n",
    "\n",
    "thinkplot.Config(xlim=[34, 97], ylim=[0, 1], legend=True, loc='upper left',\n",
    "                 xlabel='cohort (decade)', ylabel='Fraction unmarried', \n",
    "                 title='Women in the U.S.')\n",
    "\n",
    "thinkplot.Save(root='figs/marriage6', **options)"
   ]
  },
  {
   "cell_type": "markdown",
   "metadata": {},
   "source": [
    "## Marriage patterns for men"
   ]
  },
  {
   "cell_type": "code",
   "execution_count": 38,
   "metadata": {},
   "outputs": [
    {
     "name": "stdout",
     "output_type": "stream",
     "text": [
      "Wall time: 19.9 ms\n"
     ]
    },
    {
     "data": {
      "text/plain": [
       "(29192, 37)"
      ]
     },
     "execution_count": 38,
     "metadata": {},
     "output_type": "execute_result"
    }
   ],
   "source": [
    "%time df2 = pd.read_hdf('MaleMarriageData.hdf', 'MaleMarriageData')\n",
    "df2.shape"
   ]
  },
  {
   "cell_type": "code",
   "execution_count": 39,
   "metadata": {},
   "outputs": [
    {
     "name": "stdout",
     "output_type": "stream",
     "text": [
      "6  &  2002--2003 & 4928 & 1957--1988 \\\\\n",
      "7  &  2006--2010 & 10403 & 1961--1995 \\\\\n",
      "8  &  2011--2013 & 4815 & 1966--1998 \\\\\n",
      "9  &  2013--2015 & 4506 & 1968--2000 \\\\\n",
      "10  &  2015--2017 & 4540 & 1965--2002 \\\\\n"
     ]
    }
   ],
   "source": [
    "for cycle, group in df2.groupby('cycle'):\n",
    "    SummarizeCycle(cycle, group)"
   ]
  },
  {
   "cell_type": "code",
   "execution_count": 40,
   "metadata": {},
   "outputs": [
    {
     "data": {
      "text/plain": [
       "0"
      ]
     },
     "execution_count": 40,
     "metadata": {},
     "output_type": "execute_result"
    }
   ],
   "source": [
    "sum(df2.missing)"
   ]
  },
  {
   "cell_type": "code",
   "execution_count": 41,
   "metadata": {},
   "outputs": [
    {
     "name": "stdout",
     "output_type": "stream",
     "text": [
      "50 & 322 & 42--45 & 224 & 0 \\\\\n",
      "60 & 3970 & 32--50 & 2755 & 0 \\\\\n",
      "70 & 8282 & 22--47 & 4883 & 0 \\\\\n",
      "80 & 9861 & 15--37 & 2445 & 0 \\\\\n",
      "90 & 6364 & 15--27 & 243 & 0 \\\\\n",
      "100 & 393 & 15--17 & 0 & 0 \\\\\n"
     ]
    }
   ],
   "source": [
    "marriage.DigitizeResp(df2)\n",
    "grouped = df2.groupby('birth_index')\n",
    "for name, group in iter(grouped):\n",
    "    age_range = '%d--%d' % (int(group.age.min()), int(group.age_index.max()))\n",
    "    print(name, '&', len(group), '&', age_range,\n",
    "                '&', len(group[group.evrmarry]), '&', sum(group.missing), r'\\\\')"
   ]
  },
  {
   "cell_type": "code",
   "execution_count": 42,
   "metadata": {},
   "outputs": [
    {
     "data": {
      "text/plain": [
       "{50: 45, 60: 50, 70: 47, 80: 37, 90: 27, 100: 17}"
      ]
     },
     "execution_count": 42,
     "metadata": {},
     "output_type": "execute_result"
    }
   ],
   "source": [
    "cutoffs2 = ComputeCutoffs(df2)\n",
    "cutoffs2"
   ]
  },
  {
   "cell_type": "code",
   "execution_count": 43,
   "metadata": {},
   "outputs": [],
   "source": [
    "resps2 = [group for cycle, group in df2.groupby('cycle')]"
   ]
  },
  {
   "cell_type": "code",
   "execution_count": 44,
   "metadata": {},
   "outputs": [
    {
     "name": "stdout",
     "output_type": "stream",
     "text": [
      "Wall time: 954 ms\n"
     ]
    }
   ],
   "source": [
    "%time sf_map_male = marriage.EstimateSurvivalByCohort(resps2, iters=iters, cutoffs=cutoffs2)\n",
    "del sf_map_male[100]"
   ]
  },
  {
   "cell_type": "code",
   "execution_count": 45,
   "metadata": {},
   "outputs": [
    {
     "name": "stdout",
     "output_type": "stream",
     "text": [
      "Writing figs/marriage7.pdf\n",
      "Writing figs/marriage7.png\n"
     ]
    },
    {
     "data": {
      "image/png": "[encoded data removed]",
      "text/plain": [
       "<Figure size 432x288 with 1 Axes>"
      ]
     },
     "metadata": {
      "needs_background": "light"
     },
     "output_type": "display_data"
    }
   ],
   "source": [
    "palette = set_palette('hls', 6)\n",
    "draw_age_lines(ages)\n",
    "options_m = dict(title='Men in the U.S. by decade of birth')\n",
    "PlotSurvivalFunctions('figs/marriage7', sf_map_male, None, **options_m)"
   ]
  },
  {
   "cell_type": "code",
   "execution_count": 46,
   "metadata": {},
   "outputs": [
    {
     "name": "stdout",
     "output_type": "stream",
     "text": [
      "Wall time: 976 ms\n"
     ]
    }
   ],
   "source": [
    "%time sf_map_male_pred = marriage.EstimateSurvivalByCohort(resps2, iters=iters, cutoffs=cutoffs2, predict_flag=True)\n",
    "del sf_map_male_pred[100]"
   ]
  },
  {
   "cell_type": "code",
   "execution_count": 47,
   "metadata": {},
   "outputs": [
    {
     "name": "stdout",
     "output_type": "stream",
     "text": [
      "50 26.0\n",
      "60 27.0\n",
      "70 28.0\n",
      "80 30.0\n",
      "90 35.0\n"
     ]
    }
   ],
   "source": [
    "for cohort, seq in sf_map_male_pred.items():\n",
    "    if cohort > 90:\n",
    "        break\n",
    "    medians = [sf.MakeCdf().Value(0.5) for sf in seq]\n",
    "    print(cohort, np.median(medians))"
   ]
  },
  {
   "cell_type": "code",
   "execution_count": 48,
   "metadata": {},
   "outputs": [
    {
     "name": "stdout",
     "output_type": "stream",
     "text": [
      "Writing figs/marriage8.pdf\n",
      "Writing figs/marriage8.png\n"
     ]
    },
    {
     "data": {
      "image/png": "[encoded data removed]",
      "text/plain": [
       "<Figure size 432x288 with 1 Axes>"
      ]
     },
     "metadata": {
      "needs_background": "light"
     },
     "output_type": "display_data"
    }
   ],
   "source": [
    "palette = set_palette('hls', 6)\n",
    "draw_age_lines(ages)\n",
    "PlotSurvivalFunctions('figs/marriage8', sf_map_male, sf_map_male_pred, **options_m)"
   ]
  },
  {
   "cell_type": "code",
   "execution_count": 49,
   "metadata": {},
   "outputs": [
    {
     "name": "stdout",
     "output_type": "stream",
     "text": [
      "50 & 56 & 24 & 19 \\\\\n",
      "60 & 63 & 27 & 17 \\\\\n",
      "70 & 70 & 29 & 18 \\\\\n",
      "80 & 75 & 41 & nan \\\\\n",
      "90 & 83 & nan & nan \\\\\n"
     ]
    }
   ],
   "source": [
    "MakePercentageTable(sf_map_male, ages)"
   ]
  },
  {
   "cell_type": "code",
   "execution_count": 50,
   "metadata": {},
   "outputs": [
    {
     "name": "stdout",
     "output_type": "stream",
     "text": [
      "50 & 58 & 24 & 18 \\\\\n",
      "60 & 62 & 27 & 18 \\\\\n",
      "70 & 69 & 28 & 19 \\\\\n",
      "80 & 75 & 41 & 31 \\\\\n",
      "90 & 83 & 51 & 37 \\\\\n"
     ]
    }
   ],
   "source": [
    "MakePercentageTable(sf_map_male_pred, ages)"
   ]
  },
  {
   "cell_type": "code",
   "execution_count": 51,
   "metadata": {},
   "outputs": [
    {
     "name": "stdout",
     "output_type": "stream",
     "text": [
      "Writing figs/marriage9.pdf\n",
      "Writing figs/marriage9.png\n"
     ]
    },
    {
     "name": "stderr",
     "output_type": "stream",
     "text": [
      "C:\\Miniconda3\\lib\\site-packages\\matplotlib\\figure.py:98: MatplotlibDeprecationWarning: \n",
      "Adding an axes using the same arguments as a previous axes currently reuses the earlier instance.  In a future version, a new instance will always be created and returned.  Meanwhile, this warning can be suppressed, and the future behavior ensured, by passing a unique label to each axes instance.\n",
      "  \"Adding an axes using the same arguments as a previous axes \"\n"
     ]
    },
    {
     "data": {
      "image/png": "[encoded data removed]",
      "text/plain": [
       "<Figure size 576x720 with 1 Axes>"
      ]
     },
     "metadata": {
      "needs_background": "light"
     },
     "output_type": "display_data"
    }
   ],
   "source": [
    "PlotFractions(sf_map_male_pred, ages, color='gray', linestyle='dashed', linewidth=2)\n",
    "PlotFractions(sf_map_male, ages, label_flag=True, alpha=1)\n",
    "\n",
    "fontsize=12\n",
    "thinkplot.Text(46, 0.69, '68', fontsize=fontsize)\n",
    "thinkplot.Text(46, 0.30, '26', fontsize=fontsize)\n",
    "thinkplot.Text(46, 0.20, '18', fontsize=fontsize)\n",
    "\n",
    "thinkplot.Text(70, 0.18, '19', fontsize=fontsize)\n",
    "\n",
    "thinkplot.Text(80, 0.43, '43', fontsize=fontsize)\n",
    "\n",
    "thinkplot.Text(90, 0.89, '86', fontsize=fontsize)\n",
    "thinkplot.Text(90, 0.56, '52', fontsize=fontsize)\n",
    "thinkplot.Text(90, 0.40, '38', fontsize=fontsize)\n",
    "\n",
    "thinkplot.Config(xlim=[34, 97], ylim=[0, 1], legend=True, loc='upper left',\n",
    "                 xlabel='cohort (decade)', ylabel='Fraction unmarried', \n",
    "                 title='Men in the U.S.')\n",
    "\n",
    "thinkplot.Save(root='figs/marriage9', **options)"
   ]
  },
  {
   "cell_type": "code",
   "execution_count": null,
   "metadata": {},
   "outputs": [],
   "source": []
  }
 ],
 "metadata": {
  "kernelspec": {
   "display_name": "Python 3",
   "language": "python",
   "name": "python3"
  },
  "language_info": {
   "codemirror_mode": {
    "name": "ipython",
    "version": 3
   },
   "file_extension": ".py",
   "mimetype": "text/x-python",
   "name": "python",
   "nbconvert_exporter": "python",
   "pygments_lexer": "ipython3",
   "version": "3.6.8"
  }
 },
 "nbformat": 4,
 "nbformat_minor": 1
}
